{
 "cells": [
  {
   "cell_type": "markdown",
   "metadata": {},
   "source": [
    "# How to use paramManager\n",
    "paramManager writes and reads parameter files for data file sets, one structured parameter dictionary per data file.\n",
    "The routines here are just for demonstrative purposes, feel free to use any library/tools to extract the parameter values that you want. Then use paramManager to create parameter files with those values."
   ]
  },
  {
   "cell_type": "code",
   "execution_count": null,
   "metadata": {},
   "outputs": [],
   "source": [
    "import numpy as np\n",
    "import librosa # conda install -c conda-forge librosa\n",
    "import librosa.display\n",
    "\n",
    "import os  # for mkdir\n",
    "from os import listdir\n",
    "from os.path import isfile, join\n",
    "import sys\n",
    "\n",
    "%matplotlib inline\n",
    "import matplotlib.pyplot as plt\n",
    "\n",
    "##-----------   paramManager  interface   ------------------##\n",
    "from paramManager import paramManager"
   ]
  },
  {
   "cell_type": "markdown",
   "metadata": {},
   "source": [
    "## paramManager on a directory (normal operation)"
   ]
  },
  {
   "cell_type": "code",
   "execution_count": null,
   "metadata": {
    "scrolled": true
   },
   "outputs": [],
   "source": [
    "datapath='data'  #root folder\n",
    "parampath='data' \n",
    "# print the files (but not the directories) in datapath\n",
    "fileList = [f for f in os.listdir(datapath) if os.path.isfile(os.path.join(datapath, f))]\n",
    "#fileList,fnameList = listDirectory_all(datapath)\n",
    "len(fileList)"
   ]
  },
  {
   "cell_type": "code",
   "execution_count": null,
   "metadata": {},
   "outputs": [],
   "source": [
    "# paramManager, create \n",
    "pm=paramManager(datapath, parampath)  ##-----------   paramManager  interface ------------------##"
   ]
  },
  {
   "cell_type": "code",
   "execution_count": null,
   "metadata": {},
   "outputs": [],
   "source": [
    "# initialize parameter files for the data (only necessary if they don't already exist)\n",
    "# set overwrite=True for initial creation\n",
    "# The boolean parameter tells whether to overwrite current parameter directory (default is False)\n",
    "pm.initParamFiles(overwrite=True) ##-----------   paramManager  interface ------------------##"
   ]
  },
  {
   "cell_type": "code",
   "execution_count": null,
   "metadata": {},
   "outputs": [],
   "source": [
    "# paramManager , check that data files and paramfiles match in number and name\n",
    "pm.checkIntegrity() ##-----------   paramManager  interface   ------------------##"
   ]
  },
  {
   "cell_type": "code",
   "execution_count": null,
   "metadata": {},
   "outputs": [],
   "source": [
    "# param Manager , get the parameter dictionary for a file \n",
    "# This is the critical function for getting parameters for training nets. \n",
    "\n",
    "##-----------   paramManager  interface   ------------------##\n",
    "foo=pm.getParams(datapath+'/brass_acoustic_018-070-127') #extension is optional\n",
    "foo"
   ]
  },
  {
   "cell_type": "markdown",
   "metadata": {},
   "source": [
    "## paramManager on a single file (special use case)"
   ]
  },
  {
   "cell_type": "code",
   "execution_count": null,
   "metadata": {},
   "outputs": [],
   "source": [
    "if 0 : # this is how do run paramManager on a single file. The interface needs improvement!\n",
    "\n",
    "    datapath=datapath+'/brass_acoustic_018-070-127.wav'  #datapath is pointing to an audio file\n",
    "    parampath='data'           #parampath is the parent folder containing/will contain the corresponding param file \n",
    "    pm=paramManager(datapath, parampath)\n",
    "\n",
    "    pm.initParamFiles(overwrite=False) #set overwrite=True if creating paramfile for the first time \n",
    "    pm.checkIntegrity() \n",
    "\n",
    "    foo=pm.getParamNames(datapath) #extension is optional\n",
    "    foo"
   ]
  },
  {
   "cell_type": "markdown",
   "metadata": {},
   "source": [
    "# First a little essentia demo"
   ]
  },
  {
   "cell_type": "code",
   "execution_count": null,
   "metadata": {},
   "outputs": [],
   "source": [
    "# http://essentia.upf.edu/documentation/documentation.html\n",
    "import essentia # conda install -c thomasfillon essentia\n",
    "import essentia.standard\n"
   ]
  },
  {
   "cell_type": "code",
   "execution_count": null,
   "metadata": {},
   "outputs": [],
   "source": [
    "testfile = datapath + '/' + 'reed_acoustic_000-072-127.wav'\n",
    "\n",
    "loader = essentia.standard.AudioLoader(filename=testfile) #Monoloader doesn't get metadata\n",
    "\n",
    "# and then we actually perform the loading:\n",
    "(audio, sr,chans,_,_,_) = loader()\n",
    "print(\"shape of audio is  is {}\".format(audio.shape))\n",
    "print(\"chans is {}\".format(chans))\n",
    "print(\"audio is {}\".format(audio))\n",
    "audio=audio[:,0] #get (the) one (and only) channel\n",
    "\n",
    "import IPython\n",
    "IPython.display.Audio(testfile)\n"
   ]
  },
  {
   "cell_type": "code",
   "execution_count": null,
   "metadata": {},
   "outputs": [],
   "source": [
    "PitchMelodia = essentia.standard.PitchMelodia( binResolution=2, sampleRate=sr, guessUnvoiced=True) # donothing??: , minFrequency=10, maxFrequency=200)\n",
    "p, pc = PitchMelodia(audio )\n",
    "pitch_times = np.linspace(0.0,len(audio)/sr,len(p) )\n",
    "plt.figure()\n",
    "plt.title(\"Pitch:\")\n",
    "plt.plot(pitch_times,p)"
   ]
  },
  {
   "cell_type": "markdown",
   "metadata": {},
   "source": [
    "# paramManager - analyze data files to create a new parameter with Essentia"
   ]
  },
  {
   "cell_type": "code",
   "execution_count": null,
   "metadata": {},
   "outputs": [],
   "source": [
    "# Get a list of data file names so we can pass them to essentia for analysis\n",
    "for fname in pm.getFullPathNames(datapath) :\n",
    "    print(\"processing {}\".format(fname))\n",
    "    loader = essentia.standard.AudioLoader(filename=fname) #Monoloader doesn't get metadata\n",
    "    (audio, sr,chans,_,_,_) = loader()\n",
    "    audio=audio[:,0] #get (the) one (and only) channel\n",
    "    \n",
    "    PitchMelodia = essentia.standard.PitchMelodia( binResolution=2, sampleRate=sr, guessUnvoiced=True) # donothing??: , minFrequency=10, maxFrequency=200)\n",
    "    p, pc = PitchMelodia(audio )\n",
    "    \n",
    "    # Need time points for the parameter file, which essentia does not provide\n",
    "    pitch_times = np.linspace(0.0,len(audio)/sr,len(p) )\n",
    "    if (not (len(p) == len(pitch_times))) :\n",
    "        print(\"Warning, num parameters not equal to time points\")\n",
    "    \n",
    "    # Now add the data to the parameter file\n",
    "    ##-----------   paramManager  interface   ------------------##\n",
    "    pm.addParam(fname, \"pitch\", pitch_times, p, units=\"frequency\", nvals=0, minval=0, maxval=1)\n",
    "    \n",
    "    "
   ]
  },
  {
   "cell_type": "code",
   "execution_count": null,
   "metadata": {},
   "outputs": [],
   "source": [
    "len(audio)/sr"
   ]
  },
  {
   "cell_type": "code",
   "execution_count": null,
   "metadata": {},
   "outputs": [],
   "source": [
    "# Here we show how to get a particular parameater from the pdict for a datafile\n",
    "##-----------   paramManager  interface   ------------------##\n",
    "fooparams=pm.getParams(datapath + '/' + 'reed_acoustic_000-072-127.wav')\n",
    "foopitch=fooparams['pitch']\n",
    "\n",
    "#now just show that it looks the same as the essential data \n",
    "title=fooparams['meta']['filename']\n",
    "plt.figure()\n",
    "plt.title(title)\n",
    "plt.plot(foopitch['times'], foopitch['values'])"
   ]
  },
  {
   "cell_type": "markdown",
   "metadata": {},
   "source": [
    "# Librosa demo"
   ]
  },
  {
   "cell_type": "code",
   "execution_count": null,
   "metadata": {},
   "outputs": [],
   "source": [
    "%matplotlib inline\n",
    "import matplotlib.pyplot as plt\n",
    "\n",
    "sig,sr=librosa.core.load(datapath + \"/\" + \"reed_acoustic_000-072-127.wav\", sr=None)\n",
    "rmse=librosa.feature.rms(y=sig)[0]\n",
    "rmse_times = np.linspace(0.0,len(sig)/sr, len(rmse) )\n",
    "\n",
    "plt.figure()\n",
    "plt.subplot(2, 1, 1)\n",
    "#plt.semilogy(rmse.T, label='RMS Energy')\n",
    "plt.plot(rmse_times, rmse, label='RMS Energy')\n",
    "plt.legend(loc='best')\n",
    "\n",
    "plt.subplot(2, 1, 2)\n",
    "librosa.display.waveplot(sig, sr=16000)\n",
    "\n",
    "print('duration=',len(sig)/sr)"
   ]
  },
  {
   "cell_type": "code",
   "execution_count": null,
   "metadata": {},
   "outputs": [],
   "source": [
    "datafiles = [fname for fname in pm.getFullPathNames(datapath)]\n",
    "#check all durations are the same\n",
    "def check_duration(filelist):\n",
    "    \"\"\"use librosa's get_duration method to find the duration of all files in filelist\"\"\"\n",
    "    filedurations = [librosa.core.get_duration(filename=f) for f in filelist]\n",
    "    assert filedurations.count(filedurations[0]) == len(filedurations), \"File durations are not all the same!\"\n",
    "    return filedurations[0]\n",
    "\n",
    "duration = check_duration(datafiles) \n",
    "print(duration)"
   ]
  },
  {
   "cell_type": "markdown",
   "metadata": {},
   "source": [
    "# paramManager - analyze data files to create a new parameter with LibRosa "
   ]
  },
  {
   "cell_type": "code",
   "execution_count": null,
   "metadata": {
    "scrolled": true
   },
   "outputs": [],
   "source": [
    "# parameters: rmse - frame_length=4000, hop_length=1000\n",
    "#             spectral centroid - n_fft=4000, hop_length=1000 \n",
    "\n",
    "\n",
    "for fname in pm.getFullPathNames(datapath) :\n",
    "    print(\"processing {}\".format(fname))\n",
    "\n",
    "    sig,sr=librosa.core.load(fname, sr=None)\n",
    "    rmse=librosa.feature.rms(y=sig, frame_length=4000, hop_length=1000)[0]\n",
    "    sc = librosa.feature.spectral_centroid(y=sig, sr=16000, n_fft=4000, hop_length=1000)[0]\n",
    "    \n",
    "    sig_times = np.linspace(0.0,len(sig)/sr, len(sig))\n",
    "    rmse_times = np.linspace(0.0,len(sig)/sr, len(rmse))\n",
    "    sc_times = np.linspace(0.0,len(sig)/sr, len(sc))\n",
    "    \n",
    "    \"\"\"\n",
    "    fig, ax1 = plt.subplots(figsize=(16,3))\n",
    "\n",
    "    lns1=ax1.plot(sig_times,sig,label='sig',color='k')\n",
    "    lns2=ax1.plot(rmse_times,rmse,label='rmse')\n",
    "    \n",
    "    ax2 = ax1.twinx()\n",
    "    lns3=ax2.plot(sc_times,sc,label='sc',color='r')\n",
    "    \n",
    "    lns = lns1+lns2+lns3\n",
    "    labs = [l.get_label() for l in lns]\n",
    "    ax1.legend(lns, labs, loc=0)\n",
    "    ax1.set_ylim(-1, 1)\n",
    "    ax2.set_ylim(0,8000)\n",
    "    plt.grid()\n",
    "    plt.show()\n",
    "    \"\"\"\n",
    "    break\n",
    "print(len(sig))\n",
    "print(len(rmse))\n",
    "print(len(sc))\n",
    "    \n",
    "    # Now add the data to the parameter file\n",
    "    ##-----------   paramManager  interface   ------------------##\n",
    "    #pm.addParam(fname, \"rmse\", rmse_times, rmse, units=\"energy\", nvals=0, minval=0, maxval=None)\n",
    "    #pm.addParam(fname, \"spec_centroid\", sc_times, sc, units=\"frequency\", nvals=0, minval=0, maxval=None)\n",
    "    "
   ]
  },
  {
   "cell_type": "code",
   "execution_count": null,
   "metadata": {
    "scrolled": true
   },
   "outputs": [],
   "source": [
    "#parameters frame 30ms with 50% hop sr~67\n",
    "# parameters: rmse - frame_length=480, hop_length=240\n",
    "#             spectral centroid - n_fft=480, hop_length=240\n",
    "#             mfcc - n_mfcc=13, dct_type=2, lifter=0, n_fft=480, hop_length=240 \n",
    "mfcc_maxs = np.zeros((38,13))\n",
    "mfcc_mins = np.zeros((38,13))\n",
    "i = 0\n",
    "\n",
    "for fname in pm.getFullPathNames(datapath) :\n",
    "    print(\"processing {}\".format(fname))\n",
    "\n",
    "    sig,sr=librosa.core.load(fname, sr=None)\n",
    "    rmse=librosa.feature.rmse(y=sig, frame_length=480, hop_length=240)[0]\n",
    "    sc = librosa.feature.spectral_centroid(y=sig, sr=16000, n_fft=480, hop_length=240)[0]\n",
    "    mfcc = librosa.feature.mfcc(y=sig, sr=16000, n_mfcc=13, n_fft=480, hop_length=240)\n",
    "    \n",
    "    sig_times = np.linspace(0.0,len(sig)/sr, len(sig))\n",
    "    rmse_times = np.linspace(0.0,len(sig)/sr, len(rmse))\n",
    "    sc_times = np.linspace(0.0,len(sig)/sr, len(sc))\n",
    "    \n",
    "    #sc_log = np.log(sc)\n",
    "    sc_logone = np.log1p(sc)\n",
    "    sc_norm = sc_logone / np.log1p(8000)\n",
    "    #plt.figure(figsize=(10, 4))\n",
    "    #plt.plot(sc,label='sc')\n",
    "    #plt.plot(sc_logone,label='log(1+sc)')\n",
    "    #plt.plot(sc_log,label='log(sc)')\n",
    "    #plt.plot(sc_norm,label='sc norm')\n",
    "    #plt.ylim((0, 1))\n",
    "    #plt.legend()\n",
    "    #plt.grid()\n",
    "    #plt.show()\n",
    "    \n",
    "    \n",
    "    fig, ax1 = plt.subplots(figsize=(16,3))\n",
    "\n",
    "    lns1=ax1.plot(sig_times,sig,label='sig',color='k')\n",
    "   \n",
    "    ax2 = ax1.twinx()\n",
    "    lns2=ax2.plot(rmse_times,rmse,label='rmse')\n",
    "    lns3=ax2.plot(sc_times,sc_norm,label='sc',color='r')\n",
    "    \n",
    "    lns = lns1+lns2+lns3\n",
    "    labs = [l.get_label() for l in lns]\n",
    "    ax1.legend(lns, labs, loc=0)\n",
    "    ax1.set_ylim(-1, 1)\n",
    "    ax2.set_ylim(0,1)\n",
    "    plt.grid()\n",
    "    plt.show()\n",
    "    \n",
    "    \"\"\"\n",
    "    plt.figure(figsize=(10, 4))\n",
    "    librosa.display.specshow(mfcc, x_axis='time', sr=16000, hop_length=240)\n",
    "    plt.colorbar()\n",
    "    plt.title('MFCC')\n",
    "    plt.tight_layout()\n",
    "    plt.show()\n",
    "    \"\"\"\n",
    "    mfcc_max = np.amax(np.absolute(mfcc),axis=1)\n",
    "    mfcc_min = np.amin(np.absolute(mfcc),axis=1)\n",
    "    mfcc_maxs[i] = mfcc_max\n",
    "    mfcc_mins[i] = mfcc_min\n",
    "    #print(max(x.min(), x.max(), key=abs))\n",
    "    \n",
    "    \n",
    "    i += 1\n",
    "    \n",
    "    \n",
    "    # Now add the data to the parameter file\n",
    "    ##-----------   paramManager  interface   ------------------##\n",
    "    pm.addParam(fname, \"rmse\", rmse_times, rmse, units=\"energy\", nvals=0, minval=0, maxval=None)\n",
    "    pm.addParam(fname, \"spec_centroid\", sc_times, sc_norm, units=\"frequency\", nvals=0, minval=0, maxval=None)\n",
    "\n",
    "print(sig.shape)\n",
    "print(rmse.shape)\n",
    "#print(sc.max(),sc.min())\n",
    "#print(sc)\n",
    "#print(sc_log)\n",
    "\n",
    "max_mfcc = np.amax(mfcc_maxs,axis=0)\n",
    "min_mfcc= np.amin(mfcc_mins,axis=0)\n",
    "print(max_mfcc)\n",
    "print(min_mfcc)"
   ]
  },
  {
   "cell_type": "code",
   "execution_count": null,
   "metadata": {},
   "outputs": [],
   "source": [
    "# paramManager - analyze data files to create a new parameter with LibRosa "
   ]
  },
  {
   "cell_type": "code",
   "execution_count": null,
   "metadata": {},
   "outputs": [],
   "source": [
    "# parameters: rmse - frame_length=4000, hop_length=1000\n",
    "#             spectral centroid - n_fft=4000, hop_length=1000 \n",
    "\n",
    "\n",
    "for fname in pm.getFullPathNames(datapath) :\n",
    "    print(\"processing {}\".format(fname))\n",
    "\n",
    "    sig,sr=librosa.core.load(fname, sr=None)\n",
    "    rmse=librosa.feature.rms(y=sig, frame_length=4000, hop_length=1000)[0]\n",
    "    sc = librosa.feature.spectral_centroid(y=sig, sr=16000, n_fft=4000, hop_length=1000)[0]\n",
    "    \n",
    "    sig_times = np.linspace(0.0,len(sig)/sr, len(sig))\n",
    "    rmse_times = np.linspace(0.0,len(sig)/sr, len(rmse))\n",
    "    sc_times = np.linspace(0.0,len(sig)/sr, len(sc))\n",
    "    \n",
    "    \"\"\"\n",
    "    fig, ax1 = plt.subplots(figsize=(16,3))\n",
    "\n",
    "    lns1=ax1.plot(sig_times,sig,label='sig',color='k')\n",
    "    lns2=ax1.plot(rmse_times,rmse,label='rmse')\n",
    "    \n",
    "    ax2 = ax1.twinx()\n",
    "    lns3=ax2.plot(sc_times,sc,label='sc',color='r')\n",
    "    \n",
    "    lns = lns1+lns2+lns3\n",
    "    labs = [l.get_label() for l in lns]\n",
    "    ax1.legend(lns, labs, loc=0)\n",
    "    ax1.set_ylim(-1, 1)\n",
    "    ax2.set_ylim(0,8000)\n",
    "    plt.grid()\n",
    "    plt.show()\n",
    "    \"\"\"\n",
    "    break\n",
    "print(len(sig))\n",
    "print(len(rmse))\n",
    "print(len(sc))\n",
    "    \n",
    "    # Now add the data to the parameter file\n",
    "    ##-----------   paramManager  interface   ------------------##\n",
    "    #pm.addParam(fname, \"rmse\", rmse_times, rmse, units=\"energy\", nvals=0, minval=0, maxval=None)\n",
    "    #pm.addParam(fname, \"spec_centroid\", sc_times, sc, units=\"frequency\", nvals=0, minval=0, maxval=None)\n",
    "    "
   ]
  },
  {
   "cell_type": "code",
   "execution_count": null,
   "metadata": {},
   "outputs": [],
   "source": [
    "#parameters frame 30ms with 50% hop sr~67\n",
    "# parameters: rmse - frame_length=480, hop_length=240\n",
    "#             spectral centroid - n_fft=480, hop_length=240\n",
    "#             mfcc - n_mfcc=13, dct_type=2, lifter=0, n_fft=480, hop_length=240 \n",
    "mfcc_maxs = np.zeros((38,13))\n",
    "mfcc_mins = np.zeros((38,13))\n",
    "i = 0\n",
    "\n",
    "for fname in pm.getFullPathNames(datapath) :\n",
    "    print(\"processing {}\".format(fname))\n",
    "\n",
    "    sig,sr=librosa.core.load(fname, sr=None)\n",
    "    rmse=librosa.feature.rms(y=sig, frame_length=480, hop_length=240)[0]\n",
    "    sc = librosa.feature.spectral_centroid(y=sig, sr=16000, n_fft=480, hop_length=240)[0]\n",
    "    mfcc = librosa.feature.mfcc(y=sig, sr=16000, n_mfcc=13, n_fft=480, hop_length=240)\n",
    "    \n",
    "    sig_times = np.linspace(0.0,len(sig)/sr, len(sig))\n",
    "    rmse_times = np.linspace(0.0,len(sig)/sr, len(rmse))\n",
    "    sc_times = np.linspace(0.0,len(sig)/sr, len(sc))\n",
    "    \n",
    "    #sc_log = np.log(sc)\n",
    "    sc_logone = np.log1p(sc)\n",
    "    sc_norm = sc_logone / np.log1p(8000)\n",
    "    #plt.figure(figsize=(10, 4))\n",
    "    #plt.plot(sc,label='sc')\n",
    "    #plt.plot(sc_logone,label='log(1+sc)')\n",
    "    #plt.plot(sc_log,label='log(sc)')\n",
    "    #plt.plot(sc_norm,label='sc norm')\n",
    "    #plt.ylim((0, 1))\n",
    "    #plt.legend()\n",
    "    #plt.grid()\n",
    "    #plt.show()\n",
    "    \n",
    "    \n",
    "    fig, ax1 = plt.subplots(figsize=(16,3))\n",
    "\n",
    "    lns1=ax1.plot(sig_times,sig,label='sig',color='k')\n",
    "   \n",
    "    ax2 = ax1.twinx()\n",
    "    lns2=ax2.plot(rmse_times,rmse,label='rmse')\n",
    "    lns3=ax2.plot(sc_times,sc_norm,label='sc',color='r')\n",
    "    \n",
    "    lns = lns1+lns2+lns3\n",
    "    labs = [l.get_label() for l in lns]\n",
    "    ax1.legend(lns, labs, loc=0)\n",
    "    ax1.set_ylim(-1, 1)\n",
    "    ax2.set_ylim(0,1)\n",
    "    plt.grid()\n",
    "    plt.show()\n",
    "    \n",
    "    \"\"\"\n",
    "    plt.figure(figsize=(10, 4))\n",
    "    librosa.display.specshow(mfcc, x_axis='time', sr=16000, hop_length=240)\n",
    "    plt.colorbar()\n",
    "    plt.title('MFCC')\n",
    "    plt.tight_layout()\n",
    "    plt.show()\n",
    "    \"\"\"\n",
    "    mfcc_max = np.amax(np.absolute(mfcc),axis=1)\n",
    "    mfcc_min = np.amin(np.absolute(mfcc),axis=1)\n",
    "    mfcc_maxs[i] = mfcc_max\n",
    "    mfcc_mins[i] = mfcc_min\n",
    "    #print(max(x.min(), x.max(), key=abs))\n",
    "    \n",
    "    \n",
    "    i += 1\n",
    "    \n",
    "    \n",
    "    # Now add the data to the parameter file\n",
    "    ##-----------   paramManager  interface   ------------------##\n",
    "    pm.addParam(fname, \"rmse\", rmse_times, rmse, units=\"energy\", nvals=0, minval=0, maxval=None)\n",
    "    pm.addParam(fname, \"spec_centroid\", sc_times, sc_norm, units=\"frequency\", nvals=0, minval=0, maxval=None)\n",
    "\n",
    "print(sig.shape)\n",
    "print(rmse.shape)\n",
    "#print(sc.max(),sc.min())\n",
    "#print(sc)\n",
    "#print(sc_log)\n",
    "\n",
    "max_mfcc = np.amax(mfcc_maxs,axis=0)\n",
    "min_mfcc= np.amin(mfcc_mins,axis=0)\n",
    "print(max_mfcc)\n",
    "print(min_mfcc)"
   ]
  },
  {
   "cell_type": "code",
   "execution_count": null,
   "metadata": {
    "scrolled": true
   },
   "outputs": [],
   "source": [
    "mfcc_times = np.linspace(0.0,len(sig)/sr, mfcc.shape[1])\n",
    "print(mfcc_times.shape)\n",
    "\n",
    "for fname in pm.getFullPathNames(datapath) :\n",
    "    print(\"processing {}\".format(fname))\n",
    "    \n",
    "    mfcc = librosa.feature.mfcc(y=sig, sr=16000, n_mfcc=13, n_fft=480, hop_length=240)\n",
    "    #print(mfcc)\n",
    "    for i in range(mfcc.shape[0]):\n",
    "        mfcc[i,:] = (mfcc[i,:] - min_mfcc[i]) / (max_mfcc[i] - min_mfcc[i])\n",
    "        \n",
    "        pm.addParam(fname, \"mfcc\"+str(i), mfcc_times, mfcc[i,:], units=\"None\", nvals=0, minval=0, maxval=None)\n",
    "\n",
    "    #print(mfcc)\n",
    "    \n",
    "\n",
    "    plt.figure(figsize=(10, 4))\n",
    "    librosa.display.specshow(mfcc, x_axis='time', sr=16000, hop_length=240)\n",
    "    plt.colorbar()\n",
    "    plt.title('MFCC')\n",
    "    plt.tight_layout()\n",
    "    plt.show()\n",
    "\n",
    "    "
   ]
  },
  {
   "cell_type": "markdown",
   "metadata": {},
   "source": [
    "# paramManager, add params from info stored in filenames"
   ]
  },
  {
   "cell_type": "code",
   "execution_count": null,
   "metadata": {},
   "outputs": [],
   "source": [
    "import re\n",
    "\n",
    "for fname in pm.getFullPathNames(datapath) :\n",
    "    print(\"processing {}\".format(fname))\n",
    "    \n",
    "    # first, instrument ID\n",
    "    if fname.find(\"brass\") >=0 : \n",
    "        instID=0\n",
    "    else : \n",
    "        instID=1\n",
    "    print(\"    {} is in category {}\".format(fname, 1))\n",
    "            \n",
    "    ##-----------   paramManager  interface   ------------------##\n",
    "    pm.addParam(fname, \"instID\", [0.0,duration], [instID,instID], units=\"category\", nvals=2, minval=0, maxval=1)\n",
    "    \n",
    "\n",
    "    #now midiPitch\n",
    "    n=re.findall(r'(?<=-).*?(?=-)', fname)[0] #3-digit pitch number wedged between dashes (-) in name\n",
    "    if (n[0]=='0') :\n",
    "        midinum=int(n[1:])\n",
    "    else :\n",
    "        midinum=int(n)\n",
    "    print(\"    midi number is {}\".format(midinum))\n",
    "    \n",
    "    ##-----------   paramManager  interface   ------------------##\n",
    "    pm.addParam(fname, \"midiPitch\", [0.0,duration], [midinum,midinum], units=\"midiPitch\", nvals=128, minval=0, maxval=127)\n",
    "    "
   ]
  },
  {
   "cell_type": "code",
   "execution_count": null,
   "metadata": {},
   "outputs": [],
   "source": [
    "# Now lets have a look at one of our paramfiles\n",
    "foo=pm.getParams(datapath + '/' + 'reed_acoustic_000-072-127.wav') #the path and extension are optional"
   ]
  },
  {
   "cell_type": "markdown",
   "metadata": {},
   "source": [
    "# paramManager, add params from info stored in pandas dataframe"
   ]
  },
  {
   "cell_type": "code",
   "execution_count": null,
   "metadata": {},
   "outputs": [],
   "source": [
    "if 0   : #\n",
    "    import pandas as pd\n",
    "\n",
    "    dvectors = pd.read_pickle('/enrollments/full_3layer.pkl')\n",
    "    dvectors.head()"
   ]
  },
  {
   "cell_type": "code",
   "execution_count": null,
   "metadata": {},
   "outputs": [],
   "source": [
    "if 0   : #\n",
    "    from utils.myUtils import extract_nsynth_instrument,extract_nsynth_pitch\n",
    "    from os.path import basename\n",
    "\n",
    "    columns = [str(i) for i in range(16)]\n",
    "\n",
    "    for fname in pm.getFullPathNames(datapath) :\n",
    "        #print(fname)\n",
    "        base = basename(fname)\n",
    "        print(\"processing {}\".format(base))\n",
    "        inst = extract_nsynth_instrument(base)\n",
    "        pitch = extract_nsynth_pitch(base)\n",
    "        a = dvectors.loc[lambda dvectors: (dvectors['inst'] == inst) & (dvectors['pitch'] == pitch)] \n",
    "        a_flat = np.squeeze(a[columns].values)\n",
    "        #print(len(a_flat))\n",
    "\n",
    "        for i in range(len(a_flat)):\n",
    "            pm.addParam(fname, \"dvector_\"+str(i), [0.0,duration], [a_flat[i],a_flat[i]], units=\"category\", nvals=0, minval='null', maxval='null')"
   ]
  },
  {
   "cell_type": "markdown",
   "metadata": {},
   "source": [
    "# Resampling (interpolation) demo"
   ]
  },
  {
   "cell_type": "code",
   "execution_count": null,
   "metadata": {},
   "outputs": [],
   "source": [
    "#sometimes we need parameter values at a different sampling rate\n",
    "#for example we have a section of data made up of 6 samples, taken from 0.0s to 0.03s of reed_acoustic_000-072-127.wav\n",
    "#but there are only 2 rmse (parameter) values associated with this duration\n",
    "#to get a rmse (parameter) for each of our 6 samples, load the parameter file using getParams then pass it to resampleParam as follows:\n",
    "\n",
    "pm.resampleParam(foo,\"rmse\",6,0.0,0.03,verbose=True)\n",
    "\n",
    "#this function uses scipy's linear interpolation method"
   ]
  },
  {
   "cell_type": "code",
   "execution_count": null,
   "metadata": {},
   "outputs": [],
   "source": [
    "#the default behaviour of resampleParam is not to overwrite the original param file\n",
    "\n",
    "foo=pm.getParams(datapath + '/' + 'reed_acoustic_000-072-127.wav')\n",
    "foo"
   ]
  },
  {
   "cell_type": "code",
   "execution_count": null,
   "metadata": {},
   "outputs": [],
   "source": [
    "#but this can be changed if overwrite=True\n",
    "\n",
    "pm.resampleParam(foo, \"rmse\",10,0.15,0.25,verbose=True,overwrite=True)\n",
    "foo=pm.getParams(datapath + '/' + 'reed_acoustic_000-072-127.wav')\n",
    "foo"
   ]
  },
  {
   "cell_type": "code",
   "execution_count": null,
   "metadata": {},
   "outputs": [],
   "source": [
    "#instead of resampling 1 parameter at a time, use resampleAllParams to automatically interpolate all of them (will ignore meta)\n",
    "\n",
    "paramdict = pm.resampleAllParams(foo,5,1.1,1.2,verbose=True)"
   ]
  },
  {
   "cell_type": "code",
   "execution_count": null,
   "metadata": {},
   "outputs": [],
   "source": [
    "#we can even select which parameters to resample using the prop variable \n",
    "paramdict = pm.resampleAllParams(foo,5,1.1,1.2,prop=['instID','midiPitch'],verbose=True)"
   ]
  },
  {
   "cell_type": "code",
   "execution_count": null,
   "metadata": {},
   "outputs": [],
   "source": [
    "foo=pm.getParams(datapath + '/' + 'reed_acoustic_000-070-127.params')\n",
    "foo"
   ]
  },
  {
   "cell_type": "code",
   "execution_count": null,
   "metadata": {},
   "outputs": [],
   "source": [
    "if 0 :#\n",
    "    pm.resampleParam(foo,\"dvector_0\",4,0.0,0.5,verbose=True)"
   ]
  },
  {
   "cell_type": "code",
   "execution_count": null,
   "metadata": {},
   "outputs": [],
   "source": []
  }
 ],
 "metadata": {
  "kernelspec": {
   "display_name": "Python [conda env:audioenv] *",
   "language": "python",
   "name": "conda-env-audioenv-py"
  },
  "language_info": {
   "codemirror_mode": {
    "name": "ipython",
    "version": 3
   },
   "file_extension": ".py",
   "mimetype": "text/x-python",
   "name": "python",
   "nbconvert_exporter": "python",
   "pygments_lexer": "ipython3",
   "version": "3.7.9"
  }
 },
 "nbformat": 4,
 "nbformat_minor": 4
}
